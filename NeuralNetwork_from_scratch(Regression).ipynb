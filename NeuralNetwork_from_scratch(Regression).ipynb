{
  "nbformat": 4,
  "nbformat_minor": 0,
  "metadata": {
    "colab": {
      "provenance": [],
      "authorship_tag": "ABX9TyMBXgJ5sRfmRxi3bmX7pUY0"
    },
    "kernelspec": {
      "name": "python3",
      "display_name": "Python 3"
    },
    "language_info": {
      "name": "python"
    }
  },
  "cells": [
    {
      "cell_type": "markdown",
      "source": [
        "## Building a Neural Network from Scatch for a **Regression** dataset\n",
        "\n"
      ],
      "metadata": {
        "id": "2WsRqDPaQQ52"
      }
    },
    {
      "cell_type": "code",
      "execution_count": null,
      "metadata": {
        "id": "7SY1FGO5cIKh"
      },
      "outputs": [],
      "source": [
        "import numpy as np\n",
        "import pandas as pd\n",
        "import matplotlib.pyplot as plt"
      ]
    },
    {
      "cell_type": "code",
      "source": [
        "X = np.random.rand(1000, 2) * 100  # Features between 0 and 100\n",
        "y = 3 * X[:, 0] + 2 * X[:, 1]**2 + np.random.randn(1000) * 50  # Quadratic relationship + noise\n",
        "\n",
        "df = pd.DataFrame(X, columns=['Feature_1', 'Feature_2'])\n",
        "df['Target'] = y\n",
        "\n",
        "df.head()"
      ],
      "metadata": {
        "colab": {
          "base_uri": "https://localhost:8080/",
          "height": 206
        },
        "id": "nKvtgcvIcUIN",
        "outputId": "7bac71c1-02b6-4b14-abab-904086459ac5"
      },
      "execution_count": null,
      "outputs": [
        {
          "output_type": "execute_result",
          "data": {
            "text/plain": [
              "   Feature_1  Feature_2        Target\n",
              "0  90.384068  84.076766  14390.132624\n",
              "1  88.994777  61.341452   7701.691884\n",
              "2  88.457630   0.764275    320.497111\n",
              "3  56.731860  27.814022   1695.168244\n",
              "4  92.171436  22.585454   1375.717101"
            ],
            "text/html": [
              "\n",
              "  <div id=\"df-159a7855-9445-4cac-995b-f76fd7a456e3\" class=\"colab-df-container\">\n",
              "    <div>\n",
              "<style scoped>\n",
              "    .dataframe tbody tr th:only-of-type {\n",
              "        vertical-align: middle;\n",
              "    }\n",
              "\n",
              "    .dataframe tbody tr th {\n",
              "        vertical-align: top;\n",
              "    }\n",
              "\n",
              "    .dataframe thead th {\n",
              "        text-align: right;\n",
              "    }\n",
              "</style>\n",
              "<table border=\"1\" class=\"dataframe\">\n",
              "  <thead>\n",
              "    <tr style=\"text-align: right;\">\n",
              "      <th></th>\n",
              "      <th>Feature_1</th>\n",
              "      <th>Feature_2</th>\n",
              "      <th>Target</th>\n",
              "    </tr>\n",
              "  </thead>\n",
              "  <tbody>\n",
              "    <tr>\n",
              "      <th>0</th>\n",
              "      <td>90.384068</td>\n",
              "      <td>84.076766</td>\n",
              "      <td>14390.132624</td>\n",
              "    </tr>\n",
              "    <tr>\n",
              "      <th>1</th>\n",
              "      <td>88.994777</td>\n",
              "      <td>61.341452</td>\n",
              "      <td>7701.691884</td>\n",
              "    </tr>\n",
              "    <tr>\n",
              "      <th>2</th>\n",
              "      <td>88.457630</td>\n",
              "      <td>0.764275</td>\n",
              "      <td>320.497111</td>\n",
              "    </tr>\n",
              "    <tr>\n",
              "      <th>3</th>\n",
              "      <td>56.731860</td>\n",
              "      <td>27.814022</td>\n",
              "      <td>1695.168244</td>\n",
              "    </tr>\n",
              "    <tr>\n",
              "      <th>4</th>\n",
              "      <td>92.171436</td>\n",
              "      <td>22.585454</td>\n",
              "      <td>1375.717101</td>\n",
              "    </tr>\n",
              "  </tbody>\n",
              "</table>\n",
              "</div>\n",
              "    <div class=\"colab-df-buttons\">\n",
              "\n",
              "  <div class=\"colab-df-container\">\n",
              "    <button class=\"colab-df-convert\" onclick=\"convertToInteractive('df-159a7855-9445-4cac-995b-f76fd7a456e3')\"\n",
              "            title=\"Convert this dataframe to an interactive table.\"\n",
              "            style=\"display:none;\">\n",
              "\n",
              "  <svg xmlns=\"http://www.w3.org/2000/svg\" height=\"24px\" viewBox=\"0 -960 960 960\">\n",
              "    <path d=\"M120-120v-720h720v720H120Zm60-500h600v-160H180v160Zm220 220h160v-160H400v160Zm0 220h160v-160H400v160ZM180-400h160v-160H180v160Zm440 0h160v-160H620v160ZM180-180h160v-160H180v160Zm440 0h160v-160H620v160Z\"/>\n",
              "  </svg>\n",
              "    </button>\n",
              "\n",
              "  <style>\n",
              "    .colab-df-container {\n",
              "      display:flex;\n",
              "      gap: 12px;\n",
              "    }\n",
              "\n",
              "    .colab-df-convert {\n",
              "      background-color: #E8F0FE;\n",
              "      border: none;\n",
              "      border-radius: 50%;\n",
              "      cursor: pointer;\n",
              "      display: none;\n",
              "      fill: #1967D2;\n",
              "      height: 32px;\n",
              "      padding: 0 0 0 0;\n",
              "      width: 32px;\n",
              "    }\n",
              "\n",
              "    .colab-df-convert:hover {\n",
              "      background-color: #E2EBFA;\n",
              "      box-shadow: 0px 1px 2px rgba(60, 64, 67, 0.3), 0px 1px 3px 1px rgba(60, 64, 67, 0.15);\n",
              "      fill: #174EA6;\n",
              "    }\n",
              "\n",
              "    .colab-df-buttons div {\n",
              "      margin-bottom: 4px;\n",
              "    }\n",
              "\n",
              "    [theme=dark] .colab-df-convert {\n",
              "      background-color: #3B4455;\n",
              "      fill: #D2E3FC;\n",
              "    }\n",
              "\n",
              "    [theme=dark] .colab-df-convert:hover {\n",
              "      background-color: #434B5C;\n",
              "      box-shadow: 0px 1px 3px 1px rgba(0, 0, 0, 0.15);\n",
              "      filter: drop-shadow(0px 1px 2px rgba(0, 0, 0, 0.3));\n",
              "      fill: #FFFFFF;\n",
              "    }\n",
              "  </style>\n",
              "\n",
              "    <script>\n",
              "      const buttonEl =\n",
              "        document.querySelector('#df-159a7855-9445-4cac-995b-f76fd7a456e3 button.colab-df-convert');\n",
              "      buttonEl.style.display =\n",
              "        google.colab.kernel.accessAllowed ? 'block' : 'none';\n",
              "\n",
              "      async function convertToInteractive(key) {\n",
              "        const element = document.querySelector('#df-159a7855-9445-4cac-995b-f76fd7a456e3');\n",
              "        const dataTable =\n",
              "          await google.colab.kernel.invokeFunction('convertToInteractive',\n",
              "                                                    [key], {});\n",
              "        if (!dataTable) return;\n",
              "\n",
              "        const docLinkHtml = 'Like what you see? Visit the ' +\n",
              "          '<a target=\"_blank\" href=https://colab.research.google.com/notebooks/data_table.ipynb>data table notebook</a>'\n",
              "          + ' to learn more about interactive tables.';\n",
              "        element.innerHTML = '';\n",
              "        dataTable['output_type'] = 'display_data';\n",
              "        await google.colab.output.renderOutput(dataTable, element);\n",
              "        const docLink = document.createElement('div');\n",
              "        docLink.innerHTML = docLinkHtml;\n",
              "        element.appendChild(docLink);\n",
              "      }\n",
              "    </script>\n",
              "  </div>\n",
              "\n",
              "\n",
              "<div id=\"df-772b2482-10b0-40d8-928d-f22ca01fd121\">\n",
              "  <button class=\"colab-df-quickchart\" onclick=\"quickchart('df-772b2482-10b0-40d8-928d-f22ca01fd121')\"\n",
              "            title=\"Suggest charts\"\n",
              "            style=\"display:none;\">\n",
              "\n",
              "<svg xmlns=\"http://www.w3.org/2000/svg\" height=\"24px\"viewBox=\"0 0 24 24\"\n",
              "     width=\"24px\">\n",
              "    <g>\n",
              "        <path d=\"M19 3H5c-1.1 0-2 .9-2 2v14c0 1.1.9 2 2 2h14c1.1 0 2-.9 2-2V5c0-1.1-.9-2-2-2zM9 17H7v-7h2v7zm4 0h-2V7h2v10zm4 0h-2v-4h2v4z\"/>\n",
              "    </g>\n",
              "</svg>\n",
              "  </button>\n",
              "\n",
              "<style>\n",
              "  .colab-df-quickchart {\n",
              "      --bg-color: #E8F0FE;\n",
              "      --fill-color: #1967D2;\n",
              "      --hover-bg-color: #E2EBFA;\n",
              "      --hover-fill-color: #174EA6;\n",
              "      --disabled-fill-color: #AAA;\n",
              "      --disabled-bg-color: #DDD;\n",
              "  }\n",
              "\n",
              "  [theme=dark] .colab-df-quickchart {\n",
              "      --bg-color: #3B4455;\n",
              "      --fill-color: #D2E3FC;\n",
              "      --hover-bg-color: #434B5C;\n",
              "      --hover-fill-color: #FFFFFF;\n",
              "      --disabled-bg-color: #3B4455;\n",
              "      --disabled-fill-color: #666;\n",
              "  }\n",
              "\n",
              "  .colab-df-quickchart {\n",
              "    background-color: var(--bg-color);\n",
              "    border: none;\n",
              "    border-radius: 50%;\n",
              "    cursor: pointer;\n",
              "    display: none;\n",
              "    fill: var(--fill-color);\n",
              "    height: 32px;\n",
              "    padding: 0;\n",
              "    width: 32px;\n",
              "  }\n",
              "\n",
              "  .colab-df-quickchart:hover {\n",
              "    background-color: var(--hover-bg-color);\n",
              "    box-shadow: 0 1px 2px rgba(60, 64, 67, 0.3), 0 1px 3px 1px rgba(60, 64, 67, 0.15);\n",
              "    fill: var(--button-hover-fill-color);\n",
              "  }\n",
              "\n",
              "  .colab-df-quickchart-complete:disabled,\n",
              "  .colab-df-quickchart-complete:disabled:hover {\n",
              "    background-color: var(--disabled-bg-color);\n",
              "    fill: var(--disabled-fill-color);\n",
              "    box-shadow: none;\n",
              "  }\n",
              "\n",
              "  .colab-df-spinner {\n",
              "    border: 2px solid var(--fill-color);\n",
              "    border-color: transparent;\n",
              "    border-bottom-color: var(--fill-color);\n",
              "    animation:\n",
              "      spin 1s steps(1) infinite;\n",
              "  }\n",
              "\n",
              "  @keyframes spin {\n",
              "    0% {\n",
              "      border-color: transparent;\n",
              "      border-bottom-color: var(--fill-color);\n",
              "      border-left-color: var(--fill-color);\n",
              "    }\n",
              "    20% {\n",
              "      border-color: transparent;\n",
              "      border-left-color: var(--fill-color);\n",
              "      border-top-color: var(--fill-color);\n",
              "    }\n",
              "    30% {\n",
              "      border-color: transparent;\n",
              "      border-left-color: var(--fill-color);\n",
              "      border-top-color: var(--fill-color);\n",
              "      border-right-color: var(--fill-color);\n",
              "    }\n",
              "    40% {\n",
              "      border-color: transparent;\n",
              "      border-right-color: var(--fill-color);\n",
              "      border-top-color: var(--fill-color);\n",
              "    }\n",
              "    60% {\n",
              "      border-color: transparent;\n",
              "      border-right-color: var(--fill-color);\n",
              "    }\n",
              "    80% {\n",
              "      border-color: transparent;\n",
              "      border-right-color: var(--fill-color);\n",
              "      border-bottom-color: var(--fill-color);\n",
              "    }\n",
              "    90% {\n",
              "      border-color: transparent;\n",
              "      border-bottom-color: var(--fill-color);\n",
              "    }\n",
              "  }\n",
              "</style>\n",
              "\n",
              "  <script>\n",
              "    async function quickchart(key) {\n",
              "      const quickchartButtonEl =\n",
              "        document.querySelector('#' + key + ' button');\n",
              "      quickchartButtonEl.disabled = true;  // To prevent multiple clicks.\n",
              "      quickchartButtonEl.classList.add('colab-df-spinner');\n",
              "      try {\n",
              "        const charts = await google.colab.kernel.invokeFunction(\n",
              "            'suggestCharts', [key], {});\n",
              "      } catch (error) {\n",
              "        console.error('Error during call to suggestCharts:', error);\n",
              "      }\n",
              "      quickchartButtonEl.classList.remove('colab-df-spinner');\n",
              "      quickchartButtonEl.classList.add('colab-df-quickchart-complete');\n",
              "    }\n",
              "    (() => {\n",
              "      let quickchartButtonEl =\n",
              "        document.querySelector('#df-772b2482-10b0-40d8-928d-f22ca01fd121 button');\n",
              "      quickchartButtonEl.style.display =\n",
              "        google.colab.kernel.accessAllowed ? 'block' : 'none';\n",
              "    })();\n",
              "  </script>\n",
              "</div>\n",
              "\n",
              "    </div>\n",
              "  </div>\n"
            ],
            "application/vnd.google.colaboratory.intrinsic+json": {
              "type": "dataframe",
              "variable_name": "df",
              "summary": "{\n  \"name\": \"df\",\n  \"rows\": 1000,\n  \"fields\": [\n    {\n      \"column\": \"Feature_1\",\n      \"properties\": {\n        \"dtype\": \"number\",\n        \"std\": 28.78060989486585,\n        \"min\": 0.02543153333649517,\n        \"max\": 99.86825307919922,\n        \"num_unique_values\": 1000,\n        \"samples\": [\n          33.469482030037014,\n          88.9023724628548,\n          82.32113227805523\n        ],\n        \"semantic_type\": \"\",\n        \"description\": \"\"\n      }\n    },\n    {\n      \"column\": \"Feature_2\",\n      \"properties\": {\n        \"dtype\": \"number\",\n        \"std\": 28.997019994282876,\n        \"min\": 0.022489363934496964,\n        \"max\": 99.89135274261992,\n        \"num_unique_values\": 1000,\n        \"samples\": [\n          90.27979351253806,\n          64.95541644798894,\n          8.007143069568745\n        ],\n        \"semantic_type\": \"\",\n        \"description\": \"\"\n      }\n    },\n    {\n      \"column\": \"Target\",\n      \"properties\": {\n        \"dtype\": \"number\",\n        \"std\": 6000.817101185429,\n        \"min\": -98.38674106260639,\n        \"max\": 20196.947613301516,\n        \"num_unique_values\": 1000,\n        \"samples\": [\n          16405.251484433807,\n          8740.939666535774,\n          471.5181483624495\n        ],\n        \"semantic_type\": \"\",\n        \"description\": \"\"\n      }\n    }\n  ]\n}"
            }
          },
          "metadata": {},
          "execution_count": 2
        }
      ]
    },
    {
      "cell_type": "code",
      "source": [
        "from sklearn.preprocessing import StandardScaler\n",
        "\n",
        "scalar = StandardScaler()\n",
        "standard_df = scalar.fit_transform(df)\n",
        "df = pd.DataFrame(standard_df, columns =['x1', 'x2','y'])\n"
      ],
      "metadata": {
        "id": "B04i7eMXatPR"
      },
      "execution_count": null,
      "outputs": []
    },
    {
      "cell_type": "code",
      "source": [
        "input_cols = df.iloc[:,0:2]\n",
        "output_cols = df.iloc[:,2]"
      ],
      "metadata": {
        "id": "PFQofUcbeoaP"
      },
      "execution_count": null,
      "outputs": []
    },
    {
      "cell_type": "code",
      "source": [
        "from sklearn.model_selection import train_test_split\n",
        "X_train,X_test,y_train,y_test = train_test_split(input_cols,output_cols,test_size=0.2,random_state=42)"
      ],
      "metadata": {
        "id": "lonSNtg2eRrG"
      },
      "execution_count": null,
      "outputs": []
    },
    {
      "cell_type": "code",
      "source": [
        "X_tr = np.array(X_train.iloc[:,:2])\n",
        "y_tr = np.array(y_train.iloc[:])\n",
        "\n",
        "X_te = np.array(X_test.iloc[:,:2])\n",
        "y_te = np.array(y_test.iloc[:])"
      ],
      "metadata": {
        "id": "SwTIyiYFbs_b"
      },
      "execution_count": null,
      "outputs": []
    },
    {
      "cell_type": "code",
      "source": [
        "y_tr = y_tr.reshape(-1,1)\n",
        "y_te = y_te.reshape(-1,1)"
      ],
      "metadata": {
        "id": "UCJxajhFeD-Q"
      },
      "execution_count": null,
      "outputs": []
    },
    {
      "cell_type": "code",
      "source": [
        "class NeuralNetwork:\n",
        "  def __init__(self,layers_dims):\n",
        "    self.layers_dims = layers_dims\n",
        "\n",
        "    self.weights = []\n",
        "    self.biases = []\n",
        "\n",
        "    for i in range(len(layers_dims)-1):\n",
        "      self.weights.append(np.ones((layers_dims[i+1],layers_dims[i]))*0.01)      # Initializing Weights and bias matrix\n",
        "      self.biases.append(np.zeros((1,layers_dims[i+1])))                        # For (2,2,1) layer structure, there will be two weight and bias matrix\n",
        "                                                                                # Weights matrices order -> (2,2), (1,2)  Bias matrices order -> (1,2), (1,1)\n",
        "\n",
        "  def forward_prop(self,X):                                                     # Forward Propogation, returns list of activations(output of each layer)\n",
        "    activations = [X]\n",
        "\n",
        "    for W,b in zip(self.weights,self.biases):                                   # Iterating thorugh each layer (2 -> 2 -> 1)\n",
        "      Z = np.dot(activations[-1],W.T) + b                                       # (W.T * X) + b, Here X is activation matrix\n",
        "      activations.append(Z)                                                     # 'activations' list contains 3 arrays\n",
        "                                                                                # of orders -> (1000,2):Input activation, (1000,2):Hidden layer activation, (1000,1):Output activation\n",
        "    return activations\n",
        "\n",
        "\n",
        "  def loss(self,y_true,y_pred):                                                 # Helper function used to compute loss\n",
        "    return np.mean((y_true-y_pred)**2)\n",
        "\n",
        "\n",
        "  def loss_derivative(self,y_true,y_pred):                                      # Helper function used to compute derivative of Loss wrt y_hat (dL/dy_hat)\n",
        "    return -2*(y_true-y_pred)/y_true.shape[0]\n",
        "\n",
        "\n",
        "  def backward_prop(self,y_true,activations):                                   # Back Propogation, returns list of derivative of Loss function wrt weights and biases\n",
        "    dA = self.loss_derivative(y_true,activations[-1])                           # dA = -2 * (y - y_hat)\n",
        "    m = y_true.shape[0]\n",
        "    dWs = []\n",
        "    dbs = []\n",
        "\n",
        "    for i in reversed(range(len(self.weights))):                                # Reverse iterating through the layer (1 -> 2 -> 2)\n",
        "      dZ = dA                                                                   # Activation function is Linear ( Z (W.T * X + B) -> activation function -> A (activation) )\n",
        "                                                                                # (dZ/dA = 1 for linear activation function)\n",
        "      dw = np.dot(dZ.T,activations[i]) / m                                      # Calculating derivatives of weights(dL/dw)\n",
        "      db = np.sum(dZ,axis=0,keepdims=True) / m                                  # Calculating derivatives of biases(dL/db)\n",
        "\n",
        "      dA = np.dot(dZ,self.weights[i])                                           # Updating dA for calculation of coeff. for hidden layers\n",
        "\n",
        "      dWs.insert(0,dw)\n",
        "      dbs.insert(0,db)\n",
        "\n",
        "    return dWs,dbs\n",
        "\n",
        "\n",
        "  def update_parameters(self,lr,dws,dbs):                                       # Updating Coefficents using Gradient Descent\n",
        "    for i in range(len(self.weights)):\n",
        "      self.weights[i] = self.weights[i] - lr*dws[i]                             # W_new = W_old + learning_rate * dL/dW\n",
        "      self.biases[i] = self.biases[i] - lr*dbs[i]                               # b_new = b_old + learning_rate * dL/dB\n",
        "\n",
        "\n",
        "  def fit(self,X,y,epochs,learning_rate):                                       # Training function running all of the above algorithms\n",
        "    for i in range(epochs):                                                     # epoch no. of times until convergence\n",
        "      activations = self.forward_prop(X)\n",
        "\n",
        "      loss = self.loss(y,activations[-1])\n",
        "\n",
        "      dws,dbs = self.backward_prop(y,activations)\n",
        "\n",
        "      self.update_parameters(learning_rate,dws,dbs)\n",
        "\n",
        "      if i%1000 == 0:                                                           # Calculating loss at every thousand epoch\n",
        "        print(f\"epoch : {i} ->  loss : {loss} \")\n",
        "\n",
        "  def predict(self,X):                                                          # Final prediction functions\n",
        "    activations = self.forward_prop(X)                                          # Calculating final activations using forward propogation\n",
        "    return activations[-1]                                                      # Returns the last activation array (Output array)\n"
      ],
      "metadata": {
        "id": "cs0ByAixc2hG"
      },
      "execution_count": null,
      "outputs": []
    },
    {
      "cell_type": "code",
      "source": [
        "nn = NeuralNetwork([2,4,1])"
      ],
      "metadata": {
        "id": "YYEqJQ4WQJyQ"
      },
      "execution_count": null,
      "outputs": []
    },
    {
      "cell_type": "code",
      "source": [
        "nn.fit(X_tr,y_tr,10000,0.5)"
      ],
      "metadata": {
        "colab": {
          "base_uri": "https://localhost:8080/"
        },
        "id": "uiLrbAXIkd6w",
        "outputId": "34ac86af-2efa-4491-c0c9-6bc9a1b9bd74"
      },
      "execution_count": null,
      "outputs": [
        {
          "output_type": "stream",
          "name": "stdout",
          "text": [
            "epoch : 0 ->  loss : 0.9842888691352663 \n",
            "epoch : 1000 ->  loss : 0.976644117618508 \n",
            "epoch : 2000 ->  loss : 0.9012895521138159 \n",
            "epoch : 3000 ->  loss : 0.46116749539335017 \n",
            "epoch : 4000 ->  loss : 0.08401547567700629 \n",
            "epoch : 5000 ->  loss : 0.06269418936211132 \n",
            "epoch : 6000 ->  loss : 0.06240148420961846 \n",
            "epoch : 7000 ->  loss : 0.06239510990343265 \n",
            "epoch : 8000 ->  loss : 0.062394731730983685 \n",
            "epoch : 9000 ->  loss : 0.062394700706619996 \n"
          ]
        }
      ]
    },
    {
      "cell_type": "code",
      "source": [
        "y_pred = nn.predict([X_te])\n",
        "y_pred=y_pred.reshape(200,1)"
      ],
      "metadata": {
        "id": "9HW3j56mQOqR"
      },
      "execution_count": null,
      "outputs": []
    },
    {
      "cell_type": "code",
      "source": [
        "from sklearn.metrics import r2_score\n",
        "print(r2_score(y_pred,y_te))"
      ],
      "metadata": {
        "colab": {
          "base_uri": "https://localhost:8080/"
        },
        "id": "y5kYuQRNYcir",
        "outputId": "fe38b5ec-371f-44f0-db3f-18bb2523a41c"
      },
      "execution_count": null,
      "outputs": [
        {
          "output_type": "stream",
          "name": "stdout",
          "text": [
            "0.9418770442701253\n"
          ]
        }
      ]
    }
  ]
}
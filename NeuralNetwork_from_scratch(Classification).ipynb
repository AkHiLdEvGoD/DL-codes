{
  "nbformat": 4,
  "nbformat_minor": 0,
  "metadata": {
    "colab": {
      "provenance": [],
      "authorship_tag": "ABX9TyMHRhwTgNvSGzcHwhUN4ZG+"
    },
    "kernelspec": {
      "name": "python3",
      "display_name": "Python 3"
    },
    "language_info": {
      "name": "python"
    }
  },
  "cells": [
    {
      "cell_type": "code",
      "execution_count": 1,
      "metadata": {
        "id": "jsjplWs3PrO7"
      },
      "outputs": [],
      "source": [
        "import numpy as np\n",
        "import pandas as pd\n",
        "from sklearn.datasets import make_classification"
      ]
    },
    {
      "cell_type": "code",
      "source": [
        "X,y = make_classification(n_samples=500, n_features=2, n_informative=2, n_redundant=0, n_repeated=0,\n",
        "    n_classes=2, n_clusters_per_class=2, class_sep=0.6,flip_y=0.1, random_state=42)"
      ],
      "metadata": {
        "id": "b-rWl8yAP4Xd"
      },
      "execution_count": 2,
      "outputs": []
    },
    {
      "cell_type": "code",
      "source": [
        "df = pd.DataFrame(X,columns=['Feature 1','Feature 2'])\n",
        "df['Target'] = y"
      ],
      "metadata": {
        "id": "84JQNeVoQjZH"
      },
      "execution_count": 3,
      "outputs": []
    },
    {
      "cell_type": "code",
      "source": [
        "from sklearn.model_selection import train_test_split"
      ],
      "metadata": {
        "id": "V6MRi-5aQk2_"
      },
      "execution_count": 4,
      "outputs": []
    },
    {
      "cell_type": "code",
      "source": [
        "X_train,X_test,y_train,y_test = train_test_split(X,y,test_size=0.2,random_state=42)"
      ],
      "metadata": {
        "id": "jON_ydPiRD1D"
      },
      "execution_count": 5,
      "outputs": []
    },
    {
      "cell_type": "code",
      "source": [
        "y_train = y_train.reshape(400,1)\n",
        "y_test = y_test.reshape(100,1)"
      ],
      "metadata": {
        "id": "knzp6rnC3e77"
      },
      "execution_count": 6,
      "outputs": []
    },
    {
      "cell_type": "code",
      "source": [
        "class NeuralNetwork:\n",
        "  def __init__(self,layers_dims):\n",
        "    self.layers_dims = layers_dims\n",
        "\n",
        "    self.weights = []\n",
        "    self.biases = []\n",
        "\n",
        "    for i in range(len(self.layers_dims)-1):\n",
        "      self.weights.append(np.random.rand(self.layers_dims[i+1],self.layers_dims[i])*0.1)\n",
        "      self.biases.append(np.zeros((1,self.layers_dims[i+1])))\n",
        "\n",
        "\n",
        "  def sigmoid(self,Z):\n",
        "    return 1/(1+np.exp(-Z))\n",
        "\n",
        "\n",
        "  def sigmoid_derivative(self,Z):\n",
        "    return Z*(1-Z)\n",
        "\n",
        "\n",
        "  def forward_prop(self,X):\n",
        "    activations = [X]\n",
        "\n",
        "    for w,b in zip(self.weights,self.biases):\n",
        "      Z = np.dot(activations[-1],w.T) + b\n",
        "      A = self.sigmoid(Z)\n",
        "      activations.append(A)\n",
        "\n",
        "    return activations\n",
        "\n",
        "\n",
        "  def bce(self,y_true,y_hat):\n",
        "    m = y_true.shape[0]\n",
        "    loss = -np.sum(y_true * np.log(y_hat) + (1 - y_true) * np.log(1 - y_hat)) / m\n",
        "    return loss\n",
        "\n",
        "\n",
        "  def bce_derivative(self,y_true,y_pred):\n",
        "    return -(y_true / y_pred) + ((1 - y_true) / (1 - y_pred))\n",
        "\n",
        "\n",
        "\n",
        "  def backward_prop(self,y_true,activations):\n",
        "    dA = self.bce_derivative(y_true,activations[-1])                            # dL/dA\n",
        "    m = y_true.shape[0]\n",
        "    dWs = []\n",
        "    dBs = []\n",
        "\n",
        "    for i in reversed(range(len(self.weights))):\n",
        "      dZ = self.sigmoid_derivative(activations[i+1]) * dA                         # dL/dZ = dL/dA * dA/dZ\n",
        "      dw = np.dot(dZ.T,activations[i])/m\n",
        "      db = np.sum(dZ,axis=0,keepdims=True)/m\n",
        "      dA = np.dot(dZ,self.weights[i])\n",
        "\n",
        "      dWs.insert(0,dw)\n",
        "      dBs.insert(0,db)\n",
        "\n",
        "    return dWs,dBs\n",
        "\n",
        "\n",
        "  def update_coeff(self,dWs,dBs,lr):\n",
        "    for i in range(len(self.weights)):\n",
        "      self.weights[i] -= lr * dWs[i]\n",
        "      self.biases[i] -= lr * dBs[i]\n",
        "\n",
        "\n",
        "  def fit(self,X,y,epochs,learning_rate):\n",
        "    for i in range(epochs):\n",
        "\n",
        "      activations = self.forward_prop(X)\n",
        "\n",
        "      loss = self.bce(y,activations[-1])\n",
        "\n",
        "      dWs,dBs = self.backward_prop(y,activations)\n",
        "\n",
        "      self.update_coeff(dWs,dBs,learning_rate)\n",
        "\n",
        "      if i % 1000 == 0:\n",
        "        print(f'epoch : {i} -> loss : {loss}')\n",
        "\n",
        "  def predict(self,X):\n",
        "    activation = self.forward_prop(X)\n",
        "    return activation[-1]\n"
      ],
      "metadata": {
        "id": "r6mgtJsCR74H"
      },
      "execution_count": 7,
      "outputs": []
    },
    {
      "cell_type": "code",
      "source": [
        "nn = NeuralNetwork([2,2,1])"
      ],
      "metadata": {
        "id": "z2gtQl6rR8WM"
      },
      "execution_count": 18,
      "outputs": []
    },
    {
      "cell_type": "code",
      "source": [
        "nn.fit(X_train,y_train,10000,0.5)"
      ],
      "metadata": {
        "colab": {
          "base_uri": "https://localhost:8080/"
        },
        "id": "1_C7IB65UJRy",
        "outputId": "40353c16-04d9-483f-83d4-ecb27afd8d01"
      },
      "execution_count": 19,
      "outputs": [
        {
          "output_type": "stream",
          "name": "stdout",
          "text": [
            "epoch : 0 -> loss : 0.6931085553679083\n",
            "epoch : 1000 -> loss : 0.4772796529775286\n",
            "epoch : 2000 -> loss : 0.4679016399202935\n",
            "epoch : 3000 -> loss : 0.4648682379938376\n",
            "epoch : 4000 -> loss : 0.4630979247586545\n",
            "epoch : 5000 -> loss : 0.46186747587219373\n",
            "epoch : 6000 -> loss : 0.46093590580328\n",
            "epoch : 7000 -> loss : 0.4601916607118792\n",
            "epoch : 8000 -> loss : 0.45957514334071203\n",
            "epoch : 9000 -> loss : 0.4590516399883969\n"
          ]
        }
      ]
    },
    {
      "cell_type": "code",
      "source": [
        "y_pred = nn.predict(X_test)"
      ],
      "metadata": {
        "collapsed": true,
        "id": "GM13fXUgXZ6-"
      },
      "execution_count": 20,
      "outputs": []
    },
    {
      "cell_type": "code",
      "source": [
        "y_pred = np.where(y_pred>0.5,1,0)"
      ],
      "metadata": {
        "id": "ppQ3ehiC6Lj7"
      },
      "execution_count": 21,
      "outputs": []
    },
    {
      "cell_type": "code",
      "source": [
        "from sklearn.metrics import accuracy_score\n",
        "print('accuracy :', accuracy_score(y_test,y_pred))"
      ],
      "metadata": {
        "colab": {
          "base_uri": "https://localhost:8080/"
        },
        "id": "USgEO9S_6xKb",
        "outputId": "514a6613-9f97-4105-8143-52400d2fa915"
      },
      "execution_count": 22,
      "outputs": [
        {
          "output_type": "stream",
          "name": "stdout",
          "text": [
            "accuracy : 0.84\n"
          ]
        }
      ]
    }
  ]
}